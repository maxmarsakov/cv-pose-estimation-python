{
 "cells": [
  {
   "cell_type": "markdown",
   "id": "4b9d2fd6",
   "metadata": {},
   "source": [
    "## playground"
   ]
  },
  {
   "cell_type": "code",
   "execution_count": 8,
   "id": "b8b4253c",
   "metadata": {},
   "outputs": [],
   "source": [
    "import numpy as np\n",
    "%load_ext autoreload\n",
    "%autoreload 2"
   ]
  },
  {
   "cell_type": "markdown",
   "id": "9bff9344",
   "metadata": {},
   "source": [
    "model testing"
   ]
  },
  {
   "cell_type": "code",
   "execution_count": 3,
   "id": "af520547",
   "metadata": {},
   "outputs": [],
   "source": [
    "from model_detection import Model"
   ]
  },
  {
   "cell_type": "code",
   "execution_count": 40,
   "id": "97c34863",
   "metadata": {},
   "outputs": [],
   "source": [
    "m = Model.loadModel(\"./data/test/cookies_ORB.yml\")"
   ]
  },
  {
   "cell_type": "code",
   "execution_count": 43,
   "id": "9898e106",
   "metadata": {},
   "outputs": [
    {
     "data": {
      "text/plain": [
       "(5914, 7)"
      ]
     },
     "execution_count": 43,
     "metadata": {},
     "output_type": "execute_result"
    }
   ],
   "source": [
    "m.getKeypoints().shape"
   ]
  },
  {
   "cell_type": "code",
   "execution_count": 44,
   "id": "bafcad73",
   "metadata": {},
   "outputs": [
    {
     "data": {
      "text/plain": [
       "array([5.8165207, 6.5905914, 7.5      ], dtype=float32)"
      ]
     },
     "execution_count": 44,
     "metadata": {},
     "output_type": "execute_result"
    }
   ],
   "source": [
    "m.get3DPoints()[0]"
   ]
  },
  {
   "cell_type": "code",
   "execution_count": 42,
   "id": "0cab0e71",
   "metadata": {},
   "outputs": [
    {
     "data": {
      "text/plain": [
       "(5914, 32)"
      ]
     },
     "execution_count": 42,
     "metadata": {},
     "output_type": "execute_result"
    }
   ],
   "source": [
    "m.getDescriptors().shape"
   ]
  },
  {
   "cell_type": "markdown",
   "id": "90bd57f6",
   "metadata": {},
   "source": [
    "Mesh testing"
   ]
  },
  {
   "cell_type": "code",
   "execution_count": 49,
   "id": "29976bc4",
   "metadata": {},
   "outputs": [],
   "source": [
    "from model_detection import Mesh"
   ]
  },
  {
   "cell_type": "code",
   "execution_count": 55,
   "id": "f8804ca7",
   "metadata": {},
   "outputs": [],
   "source": [
    "m = Mesh.loadMesh(\"./data/test/box.ply\")"
   ]
  },
  {
   "cell_type": "code",
   "execution_count": 56,
   "id": "0f185897",
   "metadata": {},
   "outputs": [
    {
     "data": {
      "text/plain": [
       "array([[ 0. ,  0. ,  0. ],\n",
       "       [ 0. , 25.8,  0. ],\n",
       "       [18.9,  0. ,  0. ],\n",
       "       [18.9, 25.8,  0. ],\n",
       "       [ 0. ,  0. ,  7.5],\n",
       "       [ 0. , 25.8,  7.5],\n",
       "       [18.9,  0. ,  7.5],\n",
       "       [18.9, 25.8,  7.5]])"
      ]
     },
     "execution_count": 56,
     "metadata": {},
     "output_type": "execute_result"
    }
   ],
   "source": [
    "m.vertices_"
   ]
  },
  {
   "cell_type": "code",
   "execution_count": 57,
   "id": "9fe451ef",
   "metadata": {},
   "outputs": [
    {
     "data": {
      "text/plain": [
       "array([[5., 1., 0.],\n",
       "       [5., 4., 0.],\n",
       "       [4., 0., 2.],\n",
       "       [4., 6., 2.],\n",
       "       [7., 5., 4.],\n",
       "       [7., 6., 4.],\n",
       "       [3., 2., 1.],\n",
       "       [1., 2., 0.],\n",
       "       [5., 7., 1.],\n",
       "       [7., 1., 3.],\n",
       "       [7., 6., 3.],\n",
       "       [6., 3., 2.]])"
      ]
     },
     "execution_count": 57,
     "metadata": {},
     "output_type": "execute_result"
    }
   ],
   "source": [
    "m.triangles_"
   ]
  },
  {
   "cell_type": "markdown",
   "id": "ca92431d",
   "metadata": {},
   "source": [
    "## testing util functions"
   ]
  },
  {
   "cell_type": "markdown",
   "id": "9259f03d",
   "metadata": {},
   "source": [
    "draw points"
   ]
  },
  {
   "cell_type": "code",
   "execution_count": 10,
   "id": "c7451e4e",
   "metadata": {},
   "outputs": [],
   "source": [
    "import cv2 as cv\n",
    "from util import *"
   ]
  },
  {
   "cell_type": "code",
   "execution_count": 24,
   "id": "218821ad",
   "metadata": {},
   "outputs": [],
   "source": [
    "img = cv.imread('./data/test/resized_IMG_3875.jpg')\n",
    "\n",
    "# show image\n",
    "drawPoints(img, [(100,200)], \"yellow\")\n",
    "cv.imshow('image',img)\n",
    "cv.waitKey(0) #wait for any key\n",
    "\n",
    "cv.destroyAllWindows() #close the image window\n"
   ]
  },
  {
   "cell_type": "markdown",
   "id": "a019bb09",
   "metadata": {},
   "source": [
    "draw lines"
   ]
  },
  {
   "cell_type": "code",
   "execution_count": 30,
   "id": "1efe84cf",
   "metadata": {},
   "outputs": [],
   "source": [
    "# show image\n",
    "draw3DCoordinateAxes(img, [(100,200),(150,200), (50, 230), (150, 150)])\n",
    "cv.imshow('image',img)\n",
    "cv.waitKey(0) #wait for any key\n",
    "\n",
    "cv.destroyAllWindows() #close the image window\n"
   ]
  },
  {
   "cell_type": "code",
   "execution_count": null,
   "id": "1a0ab8d6",
   "metadata": {},
   "outputs": [],
   "source": []
  }
 ],
 "metadata": {
  "kernelspec": {
   "display_name": "Python 3 (ipykernel)",
   "language": "python",
   "name": "python3"
  },
  "language_info": {
   "codemirror_mode": {
    "name": "ipython",
    "version": 3
   },
   "file_extension": ".py",
   "mimetype": "text/x-python",
   "name": "python",
   "nbconvert_exporter": "python",
   "pygments_lexer": "ipython3",
   "version": "3.8.10"
  }
 },
 "nbformat": 4,
 "nbformat_minor": 5
}

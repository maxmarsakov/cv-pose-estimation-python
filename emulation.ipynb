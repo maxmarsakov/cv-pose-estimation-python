{
 "cells": [
  {
   "cell_type": "code",
   "execution_count": 14,
   "id": "662b6ff1",
   "metadata": {},
   "outputs": [
    {
     "name": "stdout",
     "output_type": "stream",
     "text": [
      "The autoreload extension is already loaded. To reload it, use:\n",
      "  %reload_ext autoreload\n"
     ]
    }
   ],
   "source": [
    "import numpy as np\n",
    "%load_ext autoreload\n",
    "%autoreload 2"
   ]
  },
  {
   "cell_type": "code",
   "execution_count": 3,
   "id": "07423190",
   "metadata": {},
   "outputs": [],
   "source": [
    "import cv2 as cv\n",
    "import numpy as np\n",
    "from matplotlib import pyplot as plt\n",
    "import util\n",
    "from model_detection import Model\n",
    "from model_detection import kalman_filter\n",
    "from model_detection import pnp_detection\n",
    "from model_detection import robust_matcher\n",
    "from model_detection import Mesh\n",
    "import time"
   ]
  },
  {
   "cell_type": "code",
   "execution_count": 5,
   "id": "552bb5ab",
   "metadata": {},
   "outputs": [],
   "source": [
    "def kalman_filter_params(n_states, n_measurements, n_inputs, dt):\n",
    "    \"\"\"\n",
    "    returns predefines kalman filter parameters\n",
    "    namely, measurement matrix and transition matrix\n",
    "\n",
    "    params:\n",
    "    n_states: Number of states\n",
    "    n_measurements: number of measurements\n",
    "    n_inputs: number of control actions\n",
    "    dt: time between measurements\n",
    "\n",
    "    \"\"\"\n",
    "    pass"
   ]
  },
  {
   "cell_type": "code",
   "execution_count": 68,
   "id": "e064bf43",
   "metadata": {},
   "outputs": [
    {
     "name": "stdout",
     "output_type": "stream",
     "text": [
      "Started....\n",
      "Parsing and registering model/mesh....\n",
      "Model/Mesh registration is done\n"
     ]
    }
   ],
   "source": [
    "print(\"Started....\")\n",
    "\n",
    "video_source = \"./data/test/box.mp4\"\n",
    "model_path = \"./data/test/cookies_ORB.yml\"\n",
    "mesh_path = \"./data/test/box.ply\"\n",
    "# load the model\n",
    "print(\"Parsing and registering model/mesh....\")\n",
    "\n",
    "model = Model.loadModel(model_path)\n",
    "keypoints_model = model.getKeypoints()\n",
    "descriptors_model = model.getDescriptors()\n",
    "model_3d_points = model.get3DPoints()\n",
    "# load mesh\n",
    "mesh = Mesh.loadMesh(mesh_path)\n",
    "\n",
    "print(\"Model/Mesh registration is done\")\n",
    "\n",
    "# intrinsic camera parameters\n",
    "# fx, fy, cx, cy\n",
    "camera_params = util.load_camera_parameters(\"data/calib.npy\")\n",
    "\n",
    "# init kalman filter\n",
    "n_states = 18 # the number of states\n",
    "n_measurements = 6 # the number of measured states\n",
    "n_inputs = 0 # the number of control actions\n",
    "dt = 0.125  #time between measurements (1/FPS)\n",
    "kf = kalman_filter( params=kalman_filter_params( n_states, n_measurements, n_inputs, dt ) )\n",
    "\n",
    "# init pnp_detection\n",
    "pnp = pnp_detection(camera_params, method=\"iterative\")\n",
    "pnp_est = pnp_detection(camera_params)\n",
    "\n",
    "\n",
    "# ransac parameters\n",
    "ransac_confidence = 0.99\n",
    "ransac_iterations = 500\n",
    "max_reprojection_error = 6.0 # maximum allowed distance for inlier\n",
    "\n",
    "# kalman parameters\n",
    "kalman_min_inliers = 30"
   ]
  },
  {
   "cell_type": "code",
   "execution_count": 84,
   "id": "f644acf7",
   "metadata": {},
   "outputs": [],
   "source": [
    "# initalize matcher\n",
    "ratio_test = 0.7 # some default value\n",
    "matcher = robust_matcher( ratio_test=ratio_test, feature_detector=\"ORB\", matcher=\"FLANN\", use_cross_check=False )"
   ]
  },
  {
   "cell_type": "markdown",
   "id": "28cf88a3",
   "metadata": {},
   "source": [
    "### main loop"
   ]
  },
  {
   "cell_type": "code",
   "execution_count": 85,
   "id": "b68dd8bb",
   "metadata": {},
   "outputs": [
    {
     "name": "stdout",
     "output_type": "stream",
     "text": [
      "matches number 55\n",
      "matches number 47\n",
      "matches number 50\n",
      "matches number 54\n",
      "matches number 48\n",
      "matches number 58\n"
     ]
    },
    {
     "ename": "KeyboardInterrupt",
     "evalue": "",
     "output_type": "error",
     "traceback": [
      "\u001b[1;31m---------------------------------------------------------------------------\u001b[0m",
      "\u001b[1;31mKeyboardInterrupt\u001b[0m                         Traceback (most recent call last)",
      "Input \u001b[1;32mIn [85]\u001b[0m, in \u001b[0;36m<cell line: 12>\u001b[1;34m()\u001b[0m\n\u001b[0;32m     34\u001b[0m cv\u001b[38;5;241m.\u001b[39mimshow(\u001b[38;5;124m'\u001b[39m\u001b[38;5;124mimage window\u001b[39m\u001b[38;5;124m'\u001b[39m, frame)\n\u001b[0;32m     35\u001b[0m \u001b[38;5;66;03m# add wait key. window waits until user presses a key\u001b[39;00m\n\u001b[1;32m---> 36\u001b[0m \u001b[43mcv\u001b[49m\u001b[38;5;241;43m.\u001b[39;49m\u001b[43mwaitKey\u001b[49m\u001b[43m(\u001b[49m\u001b[38;5;241;43m0\u001b[39;49m\u001b[43m)\u001b[49m\n\u001b[0;32m     37\u001b[0m \u001b[38;5;66;03m# and finally destroy/close all open windows\u001b[39;00m\n\u001b[0;32m     38\u001b[0m cv\u001b[38;5;241m.\u001b[39mdestroyAllWindows()\n",
      "\u001b[1;31mKeyboardInterrupt\u001b[0m: "
     ]
    }
   ],
   "source": [
    "# frame loop\n",
    "frame_number = 0\n",
    "\n",
    "cap = cv.VideoCapture(video_source)\n",
    "# for online steaming\n",
    "#cap = cv.VideoCapture(0)\n",
    "if not cap.isOpened():\n",
    "    print(\"Cannot open camera/no video presented.\")\n",
    "    exit()\n",
    "\n",
    "while True:\n",
    "    start_time = time.time()\n",
    "    # Capture frame-by-frame\n",
    "    ret, frame = cap.read()\n",
    "    # if frame is read correctly ret is True\n",
    "    if not ret:\n",
    "        print(\"Can't receive frame (stream end?). Exiting ...\")\n",
    "        break\n",
    "\n",
    "    # step 1 - match the points between the model and the frame\n",
    "    matches, kp_frame = matcher.fastMatch(frame, keypoints_model, descriptors_model)\n",
    "    \n",
    "    print(\"matches number\", len(matches))\n",
    "\n",
    "    # step 2 - 3d-2d correspondencies\n",
    "    points_2d_matches, points_3d_matches = [], []\n",
    "    for i in range(len(matches)):\n",
    "        points_2d_matches.append(kp_frame[ matches[i].queryIdx ].pt)\n",
    "        points_3d_matches.append( model_3d_points[matches[i].trainIdx] )\n",
    "\n",
    "    # draw outliers\n",
    "    util.drawPoints( frame, points_2d_matches, color=\"red\")\n",
    "    \n",
    "    cv.imshow('image window', frame)\n",
    "    # add wait key. window waits until user presses a key\n",
    "    cv.waitKey(0)\n",
    "    # and finally destroy/close all open windows\n",
    "    cv.destroyAllWindows()\n",
    "    \n",
    "    \n",
    "    #time.sleep(1)"
   ]
  },
  {
   "cell_type": "code",
   "execution_count": 45,
   "id": "16ff4586",
   "metadata": {},
   "outputs": [
    {
     "data": {
      "text/plain": [
       "(452.0, 111.0)"
      ]
     },
     "execution_count": 45,
     "metadata": {},
     "output_type": "execute_result"
    }
   ],
   "source": [
    "kp_frame[matches[1].queryIdx].pt"
   ]
  },
  {
   "cell_type": "code",
   "execution_count": 54,
   "id": "bdce7a7c",
   "metadata": {},
   "outputs": [
    {
     "data": {
      "text/plain": [
       "array([5.8165207, 6.5905914, 7.5      ], dtype=float32)"
      ]
     },
     "execution_count": 54,
     "metadata": {},
     "output_type": "execute_result"
    }
   ],
   "source": [
    "model_3d_points[0]"
   ]
  },
  {
   "cell_type": "code",
   "execution_count": null,
   "id": "fe6a1d82",
   "metadata": {},
   "outputs": [],
   "source": []
  }
 ],
 "metadata": {
  "kernelspec": {
   "display_name": "Python 3 (ipykernel)",
   "language": "python",
   "name": "python3"
  },
  "language_info": {
   "codemirror_mode": {
    "name": "ipython",
    "version": 3
   },
   "file_extension": ".py",
   "mimetype": "text/x-python",
   "name": "python",
   "nbconvert_exporter": "python",
   "pygments_lexer": "ipython3",
   "version": "3.8.10"
  }
 },
 "nbformat": 4,
 "nbformat_minor": 5
}

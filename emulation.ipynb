{
 "cells": [
  {
   "cell_type": "code",
   "execution_count": 6,
   "id": "662b6ff1",
   "metadata": {},
   "outputs": [
    {
     "name": "stdout",
     "output_type": "stream",
     "text": [
      "The autoreload extension is already loaded. To reload it, use:\n",
      "  %reload_ext autoreload\n"
     ]
    }
   ],
   "source": [
    "import numpy as np\n",
    "%load_ext autoreload\n",
    "%autoreload 2"
   ]
  },
  {
   "cell_type": "code",
   "execution_count": 7,
   "id": "07423190",
   "metadata": {},
   "outputs": [],
   "source": [
    "import cv2 as cv\n",
    "import numpy as np\n",
    "from matplotlib import pyplot as plt\n",
    "import util\n",
    "from model_detection import Model\n",
    "from model_detection import kalman_filter\n",
    "from model_detection import pnp_detection\n",
    "from model_detection import robust_matcher\n",
    "from model_detection import Mesh\n",
    "import time"
   ]
  },
  {
   "cell_type": "code",
   "execution_count": 8,
   "id": "552bb5ab",
   "metadata": {},
   "outputs": [],
   "source": [
    "def kalman_filter_params(n_states, n_measurements, n_inputs, dt):\n",
    "    \"\"\"\n",
    "    returns predefines kalman filter parameters\n",
    "    namely, measurement matrix and transition matrix\n",
    "\n",
    "    params:\n",
    "    n_states: Number of states\n",
    "    n_measurements: number of measurements\n",
    "    n_inputs: number of control actions\n",
    "    dt: time between measurements\n",
    "\n",
    "    \"\"\"\n",
    "    pass"
   ]
  },
  {
   "cell_type": "code",
   "execution_count": 14,
   "id": "e064bf43",
   "metadata": {},
   "outputs": [
    {
     "name": "stdout",
     "output_type": "stream",
     "text": [
      "Started....\n",
      "Parsing and registering model/mesh....\n",
      "Model/Mesh registration is done\n"
     ]
    }
   ],
   "source": [
    "print(\"Started....\")\n",
    "\n",
    "video_source = \"./data/test/box.mp4\"\n",
    "model_path = \"./data/test/cookies_ORB.yml\"\n",
    "mesh_path = \"./data/test/box.ply\"\n",
    "# load the model\n",
    "print(\"Parsing and registering model/mesh....\")\n",
    "\n",
    "model = Model.loadModel(model_path)\n",
    "keypoints_model = model.getKeypoints()\n",
    "descriptors_model = model.getDescriptors()\n",
    "model_3d_points = model.get3DPoints()\n",
    "# load mesh\n",
    "mesh = Mesh.loadMesh(mesh_path)\n",
    "\n",
    "print(\"Model/Mesh registration is done\")\n",
    "\n",
    "# intrinsic camera parameters\n",
    "# fx, fy, cx, cy\n",
    "camera_params = util.load_camera_parameters(\"data/calib.npy\")\n",
    "\n",
    "# init kalman filter\n",
    "n_states = 18 # the number of states\n",
    "n_measurements = 6 # the number of measured states\n",
    "n_inputs = 0 # the number of control actions\n",
    "dt = 0.125  #time between measurements (1/FPS)\n",
    "kf = kalman_filter( params=kalman_filter_params( n_states, n_measurements, n_inputs, dt ) )\n",
    "\n",
    "# init pnp_detection\n",
    "f = 55\n",
    "sx, sy = 22.3, 14.9\n",
    "width, height = 640, 480\n",
    "\n",
    "pnp = pnp_detection( width*f/sx, height*f/sy, width/2, height/2, method=\"iterative\")\n",
    "# est pnp for kalman filter\n",
    "pnp_est = pnp_detection(width*f/sx, height*f/sy, width/2, height/2)\n",
    "\n",
    "# ransac parameters\n",
    "ransac_confidence = 0.99\n",
    "ransac_iterations = 500\n",
    "max_reprojection_error = 6.0 # maximum allowed distance for inlier\n",
    "\n",
    "# kalman parameters\n",
    "kalman_min_inliers = 30"
   ]
  },
  {
   "cell_type": "code",
   "execution_count": 49,
   "id": "f644acf7",
   "metadata": {},
   "outputs": [],
   "source": [
    "# initalize matcher\n",
    "ratio_test = 0.7 # some default value\n",
    "matcher = robust_matcher( ratio_test=ratio_test, feature_detector=\"ORB\", matcher=\"FLANN\", use_cross_check=False )"
   ]
  },
  {
   "cell_type": "markdown",
   "id": "28cf88a3",
   "metadata": {},
   "source": [
    "### main loop"
   ]
  },
  {
   "cell_type": "code",
   "execution_count": 50,
   "id": "b68dd8bb",
   "metadata": {
    "scrolled": false
   },
   "outputs": [
    {
     "name": "stdout",
     "output_type": "stream",
     "text": [
      "matches number 54\n",
      "matches number 54\n",
      "[[ 3.58244289e-01 -9.30796135e-01  7.26607442e-02  2.13354267e+01]\n",
      " [-5.21509112e-01 -2.64055237e-01 -8.11358785e-01  7.93126062e-01]\n",
      " [ 7.74396071e-01  2.52771411e-01 -5.80014947e-01  1.51115664e+02]]\n",
      "inliers found 52 shape (52, 1) [1]\n"
     ]
    },
    {
     "ename": "TypeError",
     "evalue": "cannot unpack non-iterable NoneType object",
     "output_type": "error",
     "traceback": [
      "\u001b[1;31m---------------------------------------------------------------------------\u001b[0m",
      "\u001b[1;31mTypeError\u001b[0m                                 Traceback (most recent call last)",
      "Input \u001b[1;32mIn [50]\u001b[0m, in \u001b[0;36m<cell line: 12>\u001b[1;34m()\u001b[0m\n\u001b[0;32m     63\u001b[0m \u001b[38;5;66;03m# step 5\u001b[39;00m\n\u001b[0;32m     64\u001b[0m \u001b[38;5;66;03m# kalman filter \u001b[39;00m\n\u001b[0;32m     65\u001b[0m \u001b[38;5;28;01mif\u001b[39;00m \u001b[38;5;28mlen\u001b[39m(inliers) \u001b[38;5;241m>\u001b[39m\u001b[38;5;241m=\u001b[39m kalman_min_inliers:\n\u001b[1;32m---> 67\u001b[0m     R, t \u001b[38;5;241m=\u001b[39m pnp\u001b[38;5;241m.\u001b[39mgetRotationTranslation()\n\u001b[0;32m     68\u001b[0m     \u001b[38;5;66;03m# update measurements, according to R and t\u001b[39;00m\n\u001b[0;32m     69\u001b[0m     measurements \u001b[38;5;241m=\u001b[39m kf\u001b[38;5;241m.\u001b[39mupdateMeasurements(R,t)\n",
      "\u001b[1;31mTypeError\u001b[0m: cannot unpack non-iterable NoneType object"
     ]
    }
   ],
   "source": [
    "# frame loop\n",
    "frame_number = 0\n",
    "\n",
    "cap = cv.VideoCapture(video_source)\n",
    "# for online steaming\n",
    "#cap = cv.VideoCapture(0)\n",
    "if not cap.isOpened():\n",
    "    print(\"Cannot open camera/no video presented.\")\n",
    "    exit()\n",
    "\n",
    "while True:\n",
    "    start_time = time.time()\n",
    "    # Capture frame-by-frame\n",
    "    ret, frame = cap.read()\n",
    "    # if frame is read correctly ret is True\n",
    "    if not ret:\n",
    "        print(\"Can't receive frame (stream end?). Exiting ...\")\n",
    "        break\n",
    "\n",
    "    # step 1 - match the points between the model and the frame\n",
    "    matches, kp_frame = matcher.fastMatch(frame, keypoints_model, descriptors_model)\n",
    "    \n",
    "    print(\"matches number\", len(matches))\n",
    "\n",
    "    # step 2 - 3d-2d correspondencies\n",
    "    points_2d_matches, points_3d_matches = [], []\n",
    "    for i in range(len(matches)):\n",
    "        points_2d_matches.append(kp_frame[ matches[i].queryIdx ].pt)\n",
    "        points_3d_matches.append( model_3d_points[matches[i].trainIdx] )\n",
    "    # cast to numpy array\n",
    "    points_2d_matches = np.array(points_2d_matches)\n",
    "    points_3d_matches = np.array(points_3d_matches)\n",
    "\n",
    "    # draw outliers\n",
    "    util.drawPoints( frame, points_2d_matches, color=\"red\")\n",
    "    \n",
    "    #cv.imshow('image window', frame)\n",
    "    # add wait key. window waits until user presses a key\n",
    "    #cv.waitKey(0)\n",
    "    # and finally destroy/close all open windows\n",
    "    #cv.destroyAllWindows()\n",
    "    \n",
    "    print(\"matches number\", len(matches))\n",
    "    # at least 4 matches are required for ransac estimation\n",
    "    if len(matches) >= 4:\n",
    "        # step 3 - estimate pose of the camera\n",
    "        inliers = pnp.estimatePoseRansac(  points_3d_matches, points_2d_matches, \\\n",
    "            confidence=ransac_confidence,  iterations_count=ransac_iterations, \n",
    "            max_reporjection_error=max_reprojection_error )\n",
    "    \n",
    "        print(\"inliers found\",len(inliers),\"shape\",inliers.shape, inliers[1])\n",
    "\n",
    "        inlier_2d_points = points_2d_matches[ inliers.flatten() ]\n",
    "        # draw the inliers\n",
    "        util.drawPoints( frame, inlier_2d_points, color=\"green\" )\n",
    "        \n",
    "        cv.imshow('image window', frame)\n",
    "        # add wait key. window waits until user presses a key\n",
    "        cv.waitKey(0)\n",
    "        # and finally destroy/close all open windows\n",
    "        cv.destroyAllWindows()\n",
    "\n",
    "        # step 5\n",
    "        # kalman filter \n",
    "        if len(inliers) >= kalman_min_inliers:\n",
    "\n",
    "            R, t = pnp.getRotationTranslation()\n",
    "            # update measurements, according to R and t\n",
    "            measurements = kf.updateMeasurements(R,t)\n",
    "\n",
    "        # estimate R and t from updated kalman filter\n",
    "        estimated_R, estimated_t = kf.estimate()\n",
    "\n",
    "        # step 6 - set estimated projection matrix\n",
    "        pnp_est.setProjectionMatrix(estimated_R, estimated_t)"
   ]
  },
  {
   "cell_type": "code",
   "execution_count": null,
   "id": "fe6a1d82",
   "metadata": {},
   "outputs": [],
   "source": []
  }
 ],
 "metadata": {
  "kernelspec": {
   "display_name": "Python 3 (ipykernel)",
   "language": "python",
   "name": "python3"
  },
  "language_info": {
   "codemirror_mode": {
    "name": "ipython",
    "version": 3
   },
   "file_extension": ".py",
   "mimetype": "text/x-python",
   "name": "python",
   "nbconvert_exporter": "python",
   "pygments_lexer": "ipython3",
   "version": "3.8.10"
  }
 },
 "nbformat": 4,
 "nbformat_minor": 5
}
